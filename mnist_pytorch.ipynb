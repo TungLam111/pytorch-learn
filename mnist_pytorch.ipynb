{
  "nbformat": 4,
  "nbformat_minor": 0,
  "metadata": {
    "colab": {
      "name": "mnist-pytorch.ipynb",
      "provenance": [],
      "collapsed_sections": []
    },
    "kernelspec": {
      "name": "python3",
      "display_name": "Python 3"
    }
  },
  "cells": [
    {
      "cell_type": "code",
      "metadata": {
        "id": "onE0H66vBMab"
      },
      "source": [
        "from torch import nn\r\n",
        "from torch import optim\r\n",
        "import torch\r\n",
        "from torchvision import datasets, transforms \r\n",
        "from torch.utils.data import random_split , DataLoader"
      ],
      "execution_count": 13,
      "outputs": []
    },
    {
      "cell_type": "code",
      "metadata": {
        "id": "uSX9Ah-2Dtpr"
      },
      "source": [
        "#define model\r\n",
        "def model_init():\r\n",
        "  model = nn.Sequential(\r\n",
        "      nn.Linear(28* 28, 64),\r\n",
        "      nn.ReLU(),\r\n",
        "      nn.Linear(64, 64),\r\n",
        "      nn.ReLU(),\r\n",
        "      nn.Dropout(0.1),\r\n",
        "      nn.Linear(64, 10) # dense to 10 classes from 0 to 9\r\n",
        "  )\r\n",
        "  return model\r\n"
      ],
      "execution_count": 27,
      "outputs": []
    },
    {
      "cell_type": "code",
      "metadata": {
        "id": "In-w6lY6EY_o"
      },
      "source": [
        "model = model_init()\r\n",
        "#define optimizer\r\n",
        "optimizer = optim.SGD(model.parameters(), lr = 1e-2)\r\n",
        "#define loss function\r\n",
        "loss = nn.CrossEntropyLoss()"
      ],
      "execution_count": 28,
      "outputs": []
    },
    {
      "cell_type": "code",
      "metadata": {
        "id": "BU4mHBgNFr9M"
      },
      "source": [
        "#process data\r\n",
        "train_data = datasets.MNIST('data', train=True, download = True, transform = transforms.ToTensor())\r\n",
        "train, val = random_split(train_data, [55000, 5000])\r\n",
        "train_loader = DataLoader(train, batch_size = 32)\r\n",
        "val_loader = DataLoader(val, batch_size = 32)"
      ],
      "execution_count": 14,
      "outputs": []
    },
    {
      "cell_type": "code",
      "metadata": {
        "colab": {
          "base_uri": "https://localhost:8080/"
        },
        "id": "6j5-eY_NYWfF",
        "outputId": "93ceec01-a3cb-4172-bc86-be17a258cdad"
      },
      "source": [
        "train[0][0].shape"
      ],
      "execution_count": 46,
      "outputs": [
        {
          "output_type": "execute_result",
          "data": {
            "text/plain": [
              "torch.Size([1, 28, 28])"
            ]
          },
          "metadata": {
            "tags": []
          },
          "execution_count": 46
        }
      ]
    },
    {
      "cell_type": "code",
      "metadata": {
        "colab": {
          "base_uri": "https://localhost:8080/",
          "height": 551
        },
        "id": "3NF9aZn8YNIb",
        "outputId": "19c11ac1-e2dc-4530-ed28-6a941e8f6efe"
      },
      "source": [
        "import matplotlib.pyplot as plt\r\n",
        "\r\n",
        "examples = enumerate(train_loader)\r\n",
        "batch_idx, (example_data, example_targets) = next(examples)\r\n",
        "\r\n",
        "fig = plt.figure()\r\n",
        "for i in range(6):\r\n",
        "  plt.subplot(2,3,i+1)\r\n",
        "  plt.tight_layout()\r\n",
        "  plt.imshow(example_data[i][0], cmap='gray', interpolation='none')\r\n",
        "  plt.title(\"Ground Truth: {}\".format(example_targets[i]))\r\n",
        "  plt.xticks([])\r\n",
        "  plt.yticks([])\r\n",
        "fig"
      ],
      "execution_count": 47,
      "outputs": [
        {
          "output_type": "execute_result",
          "data": {
            "image/png": "[encoded data removed]",
            "text/plain": [
              "<Figure size 432x288 with 6 Axes>"
            ]
          },
          "metadata": {
            "tags": []
          },
          "execution_count": 47
        },
        {
          "output_type": "display_data",
          "data": {
            "image/png": "[encoded data removed]",
            "text/plain": [
              "<Figure size 432x288 with 6 Axes>"
            ]
          },
          "metadata": {
            "tags": []
          }
        }
      ]
    },
    {
      "cell_type": "code",
      "metadata": {
        "colab": {
          "base_uri": "https://localhost:8080/"
        },
        "id": "VmNlLW3WE2Tt",
        "outputId": "3d567b1a-3aed-43cb-f051-a761f27367d0"
      },
      "source": [
        "num_epochs = 10\r\n",
        "train_losses = []\r\n",
        "train_counter = []\r\n",
        "test_losses = []\r\n",
        "test_counter = [i*len(train_loader.dataset) for i in range(num_epochs + 1)]\r\n",
        "\r\n",
        "for epoch in range(num_epochs):\r\n",
        "  losses = list()\r\n",
        "  accuracies = list()\r\n",
        "  for batch in train_loader:\r\n",
        "    x, y = batch \r\n",
        "    b = x.size(0)\r\n",
        "    x = x.view(b, -1)\r\n",
        "    #1. forward\r\n",
        "    l = model(x)\r\n",
        "    #2. compute the objective function\r\n",
        "    J = loss(l, y)\r\n",
        "    #3. cleaning the gradients\r\n",
        "    model.zero_grad()\r\n",
        "    #4. backward\r\n",
        "    J.backward()\r\n",
        "    optimizer.step()\r\n",
        "\r\n",
        "    losses.append(J.item())\r\n",
        "    accuracies.append(y.eq(l.detach().argmax(dim=1)).float().mean())\r\n",
        "    train_losses.append(J.item())\r\n",
        "    train_counter.append(\r\n",
        "        (batch*64) + ((epoch-1)*len(train_loader.dataset)))\r\n",
        "\r\n",
        "  print(f'Epoch {epoch+1}, train loss: {torch.tensor(losses).mean():.2f}, train accuracy: {torch.tensor(accuracies).mean():.2f}')\r\n",
        "  losses =  list()\r\n",
        "  accuracies = list()\r\n",
        "  for batch in val_loader:\r\n",
        "    x, y = batch\r\n",
        "    b = x.size(0)\r\n",
        "    x = x.view(b, -1)\r\n",
        "\r\n",
        "    with torch.no_grad():\r\n",
        "      l = model(x)\r\n",
        "    J = loss(l, y)\r\n",
        "\r\n",
        "    losses.append(J.item())\r\n",
        "    accuracies.append(y.eq(l.detach().argmax(dim=1)).float().mean())\r\n",
        "    \r\n",
        "  \r\n",
        "  print(f'Epoch {epoch + 1}, validation loss: {torch.tensor(losses).mean():.2f}, vallidation accuracy: {torch.tensor(accuracies).mean():.2f}')\r\n"
      ],
      "execution_count": 29,
      "outputs": [
        {
          "output_type": "stream",
          "text": [
            "Epoch 1, train loss: 1.23, train accuracy: 0.65\n",
            "Epoch 1, validation loss: 0.53, vallidation accuracy: 0.84\n",
            "Epoch 2, train loss: 0.45, train accuracy: 0.87\n",
            "Epoch 2, validation loss: 0.39, vallidation accuracy: 0.89\n",
            "Epoch 3, train loss: 0.36, train accuracy: 0.90\n",
            "Epoch 3, validation loss: 0.34, vallidation accuracy: 0.91\n",
            "Epoch 4, train loss: 0.32, train accuracy: 0.91\n",
            "Epoch 4, validation loss: 0.31, vallidation accuracy: 0.91\n",
            "Epoch 5, train loss: 0.28, train accuracy: 0.92\n",
            "Epoch 5, validation loss: 0.28, vallidation accuracy: 0.92\n",
            "Epoch 6, train loss: 0.26, train accuracy: 0.93\n",
            "Epoch 6, validation loss: 0.26, vallidation accuracy: 0.93\n",
            "Epoch 7, train loss: 0.23, train accuracy: 0.93\n",
            "Epoch 7, validation loss: 0.24, vallidation accuracy: 0.93\n",
            "Epoch 8, train loss: 0.21, train accuracy: 0.94\n",
            "Epoch 8, validation loss: 0.22, vallidation accuracy: 0.94\n",
            "Epoch 9, train loss: 0.20, train accuracy: 0.94\n",
            "Epoch 9, validation loss: 0.20, vallidation accuracy: 0.94\n",
            "Epoch 10, train loss: 0.18, train accuracy: 0.95\n",
            "Epoch 10, validation loss: 0.20, vallidation accuracy: 0.94\n"
          ],
          "name": "stdout"
        }
      ]
    },
    {
      "cell_type": "code",
      "metadata": {
        "id": "7MOSIh6ubjxz"
      },
      "source": [
        "fig = plt.figure()\r\n",
        "\r\n",
        "#plot loss learning curve\r\n",
        "plt.plot(train_counter, train_losses, color='blue')\r\n",
        "plt.scatter(test_counter, test_losses, color='red')\r\n",
        "plt.legend(['Train Loss', 'Test Loss'], loc='upper right')\r\n",
        "plt.xlabel('number of training examples seen')\r\n",
        "plt.ylabel('negative log likelihood loss')\r\n",
        "fig"
      ],
      "execution_count": null,
      "outputs": []
    },
    {
      "cell_type": "code",
      "metadata": {
        "colab": {
          "base_uri": "https://localhost:8080/"
        },
        "id": "pcsQHAIxfEgr",
        "outputId": "c3a3d41d-ef9a-475d-bec0-5018d465c2d0"
      },
      "source": [
        ""
      ],
      "execution_count": 52,
      "outputs": [
        {
          "output_type": "execute_result",
          "data": {
            "text/plain": [
              "tensor([[[0.0000, 0.0000, 0.0000, 0.0000, 0.0000, 0.0000, 0.0000, 0.0000,\n",
              "          0.0000, 0.0000, 0.0000, 0.0000, 0.0000, 0.0000, 0.0000, 0.0000,\n",
              "          0.0000, 0.0000, 0.0000, 0.0000, 0.0000, 0.0000, 0.0000, 0.0000,\n",
              "          0.0000, 0.0000, 0.0000, 0.0000],\n",
              "         [0.0000, 0.0000, 0.0000, 0.0000, 0.0000, 0.0000, 0.0000, 0.0000,\n",
              "          0.0000, 0.0000, 0.0000, 0.0000, 0.0000, 0.0000, 0.0000, 0.0000,\n",
              "          0.0000, 0.0000, 0.0000, 0.0000, 0.0000, 0.0000, 0.0000, 0.0000,\n",
              "          0.0000, 0.0000, 0.0000, 0.0000],\n",
              "         [0.0000, 0.0000, 0.0000, 0.0000, 0.0000, 0.0000, 0.0000, 0.0000,\n",
              "          0.0000, 0.0000, 0.0000, 0.0000, 0.0000, 0.0000, 0.0000, 0.0000,\n",
              "          0.0000, 0.0000, 0.0000, 0.0000, 0.0000, 0.0000, 0.0000, 0.0000,\n",
              "          0.0000, 0.0000, 0.0000, 0.0000],\n",
              "         [0.0000, 0.0000, 0.0000, 0.0000, 0.0000, 0.0000, 0.0000, 0.0000,\n",
              "          0.0000, 0.0000, 0.0000, 0.0000, 0.0000, 0.0000, 0.0000, 0.0000,\n",
              "          0.0000, 0.0000, 0.0000, 0.0000, 0.0000, 0.0000, 0.0000, 0.0000,\n",
              "          0.0000, 0.0000, 0.0000, 0.0000],\n",
              "         [0.0000, 0.0000, 0.0000, 0.0000, 0.0000, 0.0000, 0.0000, 0.0000,\n",
              "          0.0000, 0.0000, 0.0000, 0.2157, 0.3804, 0.7020, 0.6706, 0.6118,\n",
              "          0.1373, 0.0000, 0.0000, 0.0000, 0.0000, 0.0000, 0.0000, 0.0000,\n",
              "          0.0000, 0.0000, 0.0000, 0.0000],\n",
              "         [0.0000, 0.0000, 0.0000, 0.0000, 0.0000, 0.0000, 0.0000, 0.0000,\n",
              "          0.0000, 0.2745, 0.8392, 0.9804, 0.9922, 0.9176, 0.9216, 0.9922,\n",
              "          0.9098, 0.1922, 0.0000, 0.0000, 0.0000, 0.0000, 0.0000, 0.0000,\n",
              "          0.0000, 0.0000, 0.0000, 0.0000],\n",
              "         [0.0000, 0.0000, 0.0000, 0.0000, 0.0000, 0.0000, 0.0000, 0.0000,\n",
              "          0.0000, 0.8392, 0.8941, 0.4824, 0.3059, 0.0000, 0.0549, 0.8980,\n",
              "          0.9922, 0.3765, 0.0000, 0.0000, 0.0000, 0.0000, 0.0000, 0.0000,\n",
              "          0.0000, 0.0000, 0.0000, 0.0000],\n",
              "         [0.0000, 0.0000, 0.0000, 0.0000, 0.0000, 0.0000, 0.0000, 0.0000,\n",
              "          0.0000, 0.0627, 0.0510, 0.0000, 0.0000, 0.0000, 0.0745, 0.9686,\n",
              "          0.9922, 0.2275, 0.0000, 0.0000, 0.0000, 0.0000, 0.0000, 0.0000,\n",
              "          0.0000, 0.0000, 0.0000, 0.0000],\n",
              "         [0.0000, 0.0000, 0.0000, 0.0000, 0.0000, 0.0000, 0.0000, 0.0000,\n",
              "          0.0000, 0.0000, 0.0000, 0.0000, 0.0000, 0.0000, 0.2275, 0.9922,\n",
              "          0.9922, 0.2275, 0.0000, 0.0000, 0.0000, 0.0000, 0.0000, 0.0000,\n",
              "          0.0000, 0.0000, 0.0000, 0.0000],\n",
              "         [0.0000, 0.0000, 0.0000, 0.0000, 0.0000, 0.0000, 0.0000, 0.0000,\n",
              "          0.0000, 0.0000, 0.0000, 0.0000, 0.0000, 0.0549, 0.7294, 0.9961,\n",
              "          0.8980, 0.0902, 0.0000, 0.0000, 0.0000, 0.0000, 0.0000, 0.0000,\n",
              "          0.0000, 0.0000, 0.0000, 0.0000],\n",
              "         [0.0000, 0.0000, 0.0000, 0.0000, 0.0000, 0.0000, 0.0000, 0.0000,\n",
              "          0.0000, 0.0000, 0.0000, 0.0000, 0.0000, 0.4392, 0.9922, 0.9922,\n",
              "          0.3373, 0.0000, 0.0000, 0.0000, 0.0000, 0.0000, 0.0000, 0.0000,\n",
              "          0.0000, 0.0000, 0.0000, 0.0000],\n",
              "         [0.0000, 0.0000, 0.0000, 0.0000, 0.0000, 0.0000, 0.0000, 0.0000,\n",
              "          0.0000, 0.0000, 0.0000, 0.0000, 0.2667, 0.9961, 0.9922, 0.6588,\n",
              "          0.0235, 0.0000, 0.0000, 0.0000, 0.0000, 0.0000, 0.0000, 0.0000,\n",
              "          0.0000, 0.0000, 0.0000, 0.0000],\n",
              "         [0.0000, 0.0000, 0.0000, 0.0000, 0.0000, 0.0000, 0.0000, 0.0000,\n",
              "          0.0000, 0.0000, 0.0510, 0.5647, 0.9451, 0.9961, 0.8588, 0.0235,\n",
              "          0.0000, 0.0000, 0.0000, 0.0000, 0.0000, 0.0000, 0.0000, 0.0000,\n",
              "          0.0000, 0.0000, 0.0000, 0.0000],\n",
              "         [0.0000, 0.0000, 0.0000, 0.0000, 0.0000, 0.0000, 0.0000, 0.0000,\n",
              "          0.0000, 0.0000, 0.1882, 0.9608, 0.9922, 0.9961, 0.2392, 0.0000,\n",
              "          0.0000, 0.0000, 0.0000, 0.0000, 0.0000, 0.0000, 0.0000, 0.0000,\n",
              "          0.0000, 0.0000, 0.0000, 0.0000],\n",
              "         [0.0000, 0.0000, 0.0000, 0.0000, 0.0000, 0.0000, 0.0000, 0.0000,\n",
              "          0.0000, 0.0000, 0.0000, 0.2078, 0.7647, 1.0000, 0.7882, 0.2314,\n",
              "          0.0196, 0.0000, 0.0000, 0.0000, 0.0000, 0.0000, 0.0000, 0.0000,\n",
              "          0.0000, 0.0000, 0.0000, 0.0000],\n",
              "         [0.0000, 0.0000, 0.0000, 0.0000, 0.0000, 0.0000, 0.0000, 0.0000,\n",
              "          0.0000, 0.0000, 0.0000, 0.0000, 0.0588, 0.2392, 0.8627, 0.9922,\n",
              "          0.6431, 0.1373, 0.0000, 0.0000, 0.0000, 0.0000, 0.0000, 0.0000,\n",
              "          0.0000, 0.0000, 0.0000, 0.0000],\n",
              "         [0.0000, 0.0000, 0.0000, 0.0000, 0.0000, 0.0000, 0.0000, 0.0000,\n",
              "          0.0000, 0.0000, 0.0000, 0.0000, 0.0000, 0.0000, 0.0235, 0.6627,\n",
              "          0.9922, 0.8745, 0.1216, 0.0000, 0.0000, 0.0000, 0.0000, 0.0000,\n",
              "          0.0000, 0.0000, 0.0000, 0.0000],\n",
              "         [0.0000, 0.0000, 0.0000, 0.0000, 0.0000, 0.0000, 0.0000, 0.0000,\n",
              "          0.0000, 0.0000, 0.0000, 0.0000, 0.0000, 0.0000, 0.0000, 0.3098,\n",
              "          0.9922, 0.9922, 0.3843, 0.0000, 0.0000, 0.0000, 0.0000, 0.0000,\n",
              "          0.0000, 0.0000, 0.0000, 0.0000],\n",
              "         [0.0000, 0.0000, 0.0000, 0.0000, 0.0000, 0.0000, 0.0000, 0.0000,\n",
              "          0.0000, 0.0000, 0.0000, 0.0000, 0.0000, 0.0000, 0.0000, 0.3098,\n",
              "          0.9922, 0.9922, 0.3843, 0.0000, 0.0000, 0.0000, 0.0000, 0.0000,\n",
              "          0.0000, 0.0000, 0.0000, 0.0000],\n",
              "         [0.0000, 0.0000, 0.0000, 0.0000, 0.0000, 0.0000, 0.0000, 0.0000,\n",
              "          0.3804, 0.0353, 0.0000, 0.0000, 0.0000, 0.0000, 0.0000, 0.5412,\n",
              "          0.9961, 0.9961, 0.3882, 0.0000, 0.0000, 0.0000, 0.0000, 0.0000,\n",
              "          0.0000, 0.0000, 0.0000, 0.0000],\n",
              "         [0.0000, 0.0000, 0.0000, 0.0000, 0.0000, 0.0000, 0.0000, 0.1490,\n",
              "          0.9961, 0.3569, 0.0000, 0.0000, 0.0000, 0.0000, 0.0667, 0.9451,\n",
              "          0.9922, 0.9608, 0.0588, 0.0000, 0.0000, 0.0000, 0.0000, 0.0000,\n",
              "          0.0000, 0.0000, 0.0000, 0.0000],\n",
              "         [0.0000, 0.0000, 0.0000, 0.0000, 0.0000, 0.0000, 0.0000, 0.0000,\n",
              "          0.6078, 0.9686, 0.4235, 0.2627, 0.0000, 0.0745, 0.5059, 0.9922,\n",
              "          0.9922, 0.4941, 0.0000, 0.0000, 0.0000, 0.0000, 0.0000, 0.0000,\n",
              "          0.0000, 0.0000, 0.0000, 0.0000],\n",
              "         [0.0000, 0.0000, 0.0000, 0.0000, 0.0000, 0.0000, 0.0000, 0.0000,\n",
              "          0.0196, 0.4314, 0.8353, 0.9686, 0.7686, 0.7882, 0.9922, 0.9922,\n",
              "          0.9059, 0.1922, 0.0000, 0.0000, 0.0000, 0.0000, 0.0000, 0.0000,\n",
              "          0.0000, 0.0000, 0.0000, 0.0000],\n",
              "         [0.0000, 0.0000, 0.0000, 0.0000, 0.0000, 0.0000, 0.0000, 0.0000,\n",
              "          0.0000, 0.0000, 0.0000, 0.4196, 0.7569, 0.9961, 0.9922, 0.7255,\n",
              "          0.1333, 0.0000, 0.0000, 0.0000, 0.0000, 0.0000, 0.0000, 0.0000,\n",
              "          0.0000, 0.0000, 0.0000, 0.0000],\n",
              "         [0.0000, 0.0000, 0.0000, 0.0000, 0.0000, 0.0000, 0.0000, 0.0000,\n",
              "          0.0000, 0.0000, 0.0000, 0.0000, 0.0000, 0.0000, 0.0000, 0.0000,\n",
              "          0.0000, 0.0000, 0.0000, 0.0000, 0.0000, 0.0000, 0.0000, 0.0000,\n",
              "          0.0000, 0.0000, 0.0000, 0.0000],\n",
              "         [0.0000, 0.0000, 0.0000, 0.0000, 0.0000, 0.0000, 0.0000, 0.0000,\n",
              "          0.0000, 0.0000, 0.0000, 0.0000, 0.0000, 0.0000, 0.0000, 0.0000,\n",
              "          0.0000, 0.0000, 0.0000, 0.0000, 0.0000, 0.0000, 0.0000, 0.0000,\n",
              "          0.0000, 0.0000, 0.0000, 0.0000],\n",
              "         [0.0000, 0.0000, 0.0000, 0.0000, 0.0000, 0.0000, 0.0000, 0.0000,\n",
              "          0.0000, 0.0000, 0.0000, 0.0000, 0.0000, 0.0000, 0.0000, 0.0000,\n",
              "          0.0000, 0.0000, 0.0000, 0.0000, 0.0000, 0.0000, 0.0000, 0.0000,\n",
              "          0.0000, 0.0000, 0.0000, 0.0000],\n",
              "         [0.0000, 0.0000, 0.0000, 0.0000, 0.0000, 0.0000, 0.0000, 0.0000,\n",
              "          0.0000, 0.0000, 0.0000, 0.0000, 0.0000, 0.0000, 0.0000, 0.0000,\n",
              "          0.0000, 0.0000, 0.0000, 0.0000, 0.0000, 0.0000, 0.0000, 0.0000,\n",
              "          0.0000, 0.0000, 0.0000, 0.0000]]])"
            ]
          },
          "metadata": {
            "tags": []
          },
          "execution_count": 52
        }
      ]
    },
    {
      "cell_type": "code",
      "metadata": {
        "id": "lUEEMfS9dW1Y"
      },
      "source": [
        "with torch.no_grad():\r\n",
        "  output = model(example_data.view(32, 1, 784))"
      ],
      "execution_count": 70,
      "outputs": []
    },
    {
      "cell_type": "code",
      "metadata": {
        "colab": {
          "base_uri": "https://localhost:8080/"
        },
        "id": "9gPsSnvCmvGs",
        "outputId": "314dc42e-1239-4ee4-eea0-fead2a5b8dd8"
      },
      "source": [
        "example_data.data"
      ],
      "execution_count": 115,
      "outputs": [
        {
          "output_type": "execute_result",
          "data": {
            "text/plain": [
              "tensor([[[[0., 0., 0.,  ..., 0., 0., 0.],\n",
              "          [0., 0., 0.,  ..., 0., 0., 0.],\n",
              "          [0., 0., 0.,  ..., 0., 0., 0.],\n",
              "          ...,\n",
              "          [0., 0., 0.,  ..., 0., 0., 0.],\n",
              "          [0., 0., 0.,  ..., 0., 0., 0.],\n",
              "          [0., 0., 0.,  ..., 0., 0., 0.]]],\n",
              "\n",
              "\n",
              "        [[[0., 0., 0.,  ..., 0., 0., 0.],\n",
              "          [0., 0., 0.,  ..., 0., 0., 0.],\n",
              "          [0., 0., 0.,  ..., 0., 0., 0.],\n",
              "          ...,\n",
              "          [0., 0., 0.,  ..., 0., 0., 0.],\n",
              "          [0., 0., 0.,  ..., 0., 0., 0.],\n",
              "          [0., 0., 0.,  ..., 0., 0., 0.]]],\n",
              "\n",
              "\n",
              "        [[[0., 0., 0.,  ..., 0., 0., 0.],\n",
              "          [0., 0., 0.,  ..., 0., 0., 0.],\n",
              "          [0., 0., 0.,  ..., 0., 0., 0.],\n",
              "          ...,\n",
              "          [0., 0., 0.,  ..., 0., 0., 0.],\n",
              "          [0., 0., 0.,  ..., 0., 0., 0.],\n",
              "          [0., 0., 0.,  ..., 0., 0., 0.]]],\n",
              "\n",
              "\n",
              "        ...,\n",
              "\n",
              "\n",
              "        [[[0., 0., 0.,  ..., 0., 0., 0.],\n",
              "          [0., 0., 0.,  ..., 0., 0., 0.],\n",
              "          [0., 0., 0.,  ..., 0., 0., 0.],\n",
              "          ...,\n",
              "          [0., 0., 0.,  ..., 0., 0., 0.],\n",
              "          [0., 0., 0.,  ..., 0., 0., 0.],\n",
              "          [0., 0., 0.,  ..., 0., 0., 0.]]],\n",
              "\n",
              "\n",
              "        [[[0., 0., 0.,  ..., 0., 0., 0.],\n",
              "          [0., 0., 0.,  ..., 0., 0., 0.],\n",
              "          [0., 0., 0.,  ..., 0., 0., 0.],\n",
              "          ...,\n",
              "          [0., 0., 0.,  ..., 0., 0., 0.],\n",
              "          [0., 0., 0.,  ..., 0., 0., 0.],\n",
              "          [0., 0., 0.,  ..., 0., 0., 0.]]],\n",
              "\n",
              "\n",
              "        [[[0., 0., 0.,  ..., 0., 0., 0.],\n",
              "          [0., 0., 0.,  ..., 0., 0., 0.],\n",
              "          [0., 0., 0.,  ..., 0., 0., 0.],\n",
              "          ...,\n",
              "          [0., 0., 0.,  ..., 0., 0., 0.],\n",
              "          [0., 0., 0.,  ..., 0., 0., 0.],\n",
              "          [0., 0., 0.,  ..., 0., 0., 0.]]]])"
            ]
          },
          "metadata": {
            "tags": []
          },
          "execution_count": 115
        }
      ]
    },
    {
      "cell_type": "code",
      "metadata": {
        "colab": {
          "base_uri": "https://localhost:8080/",
          "height": 283
        },
        "id": "Z_M202jYdQ_A",
        "outputId": "d55330b9-bc33-4041-c3fe-d461da1f7723"
      },
      "source": [
        "fig = plt.figure()\r\n",
        "for i in range(12):\r\n",
        "  plt.subplot(6,2,i+1)\r\n",
        "  plt.tight_layout()\r\n",
        "  plt.imshow(example_data[i][0], cmap='gray', interpolation='none')\r\n",
        "  plt.title(\"Prediction: {}\".format(\r\n",
        "    output.data[i].max(1, keepdim=True)[1].item() == example_targets[i]))\r\n",
        "  plt.xticks([])\r\n",
        "  plt.yticks([])\r\n",
        "#fig"
      ],
      "execution_count": 126,
      "outputs": [
        {
          "output_type": "display_data",
          "data": {
            "image/png": "[encoded data removed]",
            "text/plain": [
              "<Figure size 432x288 with 12 Axes>"
            ]
          },
          "metadata": {
            "tags": []
          }
        }
      ]
    },
    {
      "cell_type": "code",
      "metadata": {
        "colab": {
          "base_uri": "https://localhost:8080/"
        },
        "id": "7htYThs3m_Lx",
        "outputId": "f9c92dbf-dead-478d-d477-9e90da69d405"
      },
      "source": [
        "for i in range(32):\r\n",
        "  if output.data[i].max(1, keepdim=True)[1].item() != example_targets[i]:\r\n",
        "    print(i)"
      ],
      "execution_count": 118,
      "outputs": [
        {
          "output_type": "stream",
          "text": [
            "12\n",
            "27\n"
          ],
          "name": "stdout"
        }
      ]
    },
    {
      "cell_type": "code",
      "metadata": {
        "colab": {
          "base_uri": "https://localhost:8080/",
          "height": 283
        },
        "id": "v3Re6vlwnUuS",
        "outputId": "f85411d1-50ee-4fe6-aa22-92bbaf2227d9"
      },
      "source": [
        "fig = plt.figure()\r\n",
        "#plt.subplot(6,2,i+1)\r\n",
        "#plt.tight_layout()\r\n",
        "plt.imshow(example_data[27][0], cmap='gray', interpolation='none')\r\n",
        "plt.title(\"Prediction: {}\".format(\r\n",
        "   output.data[27].max(1, keepdim=True)[1].item()))\r\n",
        "plt.xticks([])\r\n",
        "plt.yticks([])"
      ],
      "execution_count": 125,
      "outputs": [
        {
          "output_type": "execute_result",
          "data": {
            "text/plain": [
              "([], <a list of 0 Text major ticklabel objects>)"
            ]
          },
          "metadata": {
            "tags": []
          },
          "execution_count": 125
        },
        {
          "output_type": "display_data",
          "data": {
            "image/png": "[encoded data removed]",
            "text/plain": [
              "<Figure size 432x288 with 1 Axes>"
            ]
          },
          "metadata": {
            "tags": []
          }
        }
      ]
    }
  ]
}